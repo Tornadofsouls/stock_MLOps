{
 "cells": [
  {
   "cell_type": "code",
   "execution_count": null,
   "metadata": {},
   "outputs": [],
   "source": [
    "#读取配置文件\n",
    "import yaml\n",
    "\n",
    "with open('test_yaml', 'r') as f:\n",
    "    config = yaml.safe_load(f)\n"
   ]
  },
  {
   "cell_type": "code",
   "execution_count": null,
   "metadata": {},
   "outputs": [],
   "source": [
    "#读取模型\n",
    "model_path = \"file:/models/linear_regression\"\n",
    "\n",
    "import mlflow.pyfunc\n",
    "loaded_model = mlflow.pyfunc.load_model(model_path)\n"
   ]
  },
  {
   "cell_type": "markdown",
   "metadata": {},
   "source": [
    "### 执行mlflow管理"
   ]
  },
  {
   "cell_type": "code",
   "execution_count": null,
   "metadata": {},
   "outputs": [],
   "source": [
    "import mlflow\n",
    "\n",
    "\n",
    "mlflow.set_tracking_uri(config[\"tracking_uri\"])\n",
    "mlflow.set_experiment(config[\"experiment\"][\"name\"])\n",
    "\n",
    "with mlflow.start_run() as run:\n",
    "    alpha = config[\"run\"][\"parameters\"][\"alpha\"]\n",
    "    mlflow.log_param(\"alpha\", alpha)\n",
    "\n",
    "    mlflow.set_tag(\"my-tag\", config[\"run\"][\"tags\"][\"my-tag\"])\n",
    "\n",
    "    # Your training code goes here\n",
    "\n",
    "    mlflow.sklearn.log_model(loaded_model, config[\"model\"][\"name\"])\n"
   ]
  }
 ],
 "metadata": {
  "language_info": {
   "name": "python"
  },
  "orig_nbformat": 4
 },
 "nbformat": 4,
 "nbformat_minor": 2
}
