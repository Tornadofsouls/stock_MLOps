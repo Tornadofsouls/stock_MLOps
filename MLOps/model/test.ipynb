{
 "cells": [
  {
   "cell_type": "markdown",
   "metadata": {},
   "source": [
    "# Astock"
   ]
  },
  {
   "cell_type": "markdown",
   "metadata": {},
   "source": [
    "## 输入数据格式\n"
   ]
  },
  {
   "cell_type": "code",
   "execution_count": null,
   "metadata": {},
   "outputs": [],
   "source": [
    "import pandas as pd\n",
    "df_test = pd.read_csv(\"C:/Users/is_li/Desktop/code&data/Astock/data/df_all_year_srl.csv\", sep='\\t')\n",
    "\n",
    "df_test = df_test.drop(\n",
    "    columns=['A0', 'A1', 'verbA0A1', 'verb_mask', 'A0_mask', 'A1_mask', 'AV_num'])\n",
    "df_test.SECOND_DAY = pd.to_datetime(df_test.SECOND_DAY)\n",
    "df_test.day1 = pd.to_datetime(df_test.day1)\n",
    "df_test.day2 = pd.to_datetime(df_test.day2)\n",
    "df_test.day3 = pd.to_datetime(df_test.day3)\n",
    "df_test.day4 = pd.to_datetime(df_test.day4)\n",
    "df_test.day5 = pd.to_datetime(df_test.day5)\n",
    "df_test[:1]\n"
   ]
  },
  {
   "cell_type": "markdown",
   "metadata": {},
   "source": [
    "## 模型导入"
   ]
  },
  {
   "cell_type": "code",
   "execution_count": null,
   "metadata": {},
   "outputs": [],
   "source": []
  },
  {
   "cell_type": "markdown",
   "metadata": {},
   "source": [
    "## 预测数据输出"
   ]
  },
  {
   "cell_type": "code",
   "execution_count": null,
   "metadata": {},
   "outputs": [],
   "source": []
  },
  {
   "cell_type": "markdown",
   "metadata": {},
   "source": [
    "## 预测数据输出格式及含义"
   ]
  },
  {
   "cell_type": "code",
   "execution_count": null,
   "metadata": {},
   "outputs": [],
   "source": []
  }
 ],
 "metadata": {
  "language_info": {
   "name": "python"
  },
  "orig_nbformat": 4
 },
 "nbformat": 4,
 "nbformat_minor": 2
}
