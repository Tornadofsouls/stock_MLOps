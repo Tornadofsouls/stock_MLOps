{
 "cells": [
  {
   "cell_type": "code",
   "execution_count": null,
   "metadata": {},
   "outputs": [],
   "source": [
    "import mlflow\n",
    "import mlflow.sklearn\n",
    "from sklearn.ensemble import RandomForestClassifier\n",
    "from sklearn.datasets import load_iris\n",
    "from sklearn.model_selection import train_test_split\n",
    "\n",
    "# 加载数据\n",
    "iris = load_iris()\n",
    "X_train, X_test, y_train, y_test = train_test_split(iris.data, iris.target, test_size=0.2, random_state=42)\n",
    "\n",
    "# 开始一个新的 MLflow run\n",
    "mlflow.start_run(run_name='iris_rf')\n",
    "\n",
    "# 设置模型参数\n",
    "n_estimators = 100\n",
    "max_depth = 3\n",
    "\n",
    "# 训练模型\n",
    "rf = RandomForestClassifier(n_estimators=n_estimators, max_depth=max_depth)\n",
    "rf.fit(X_train, y_train)\n",
    "\n",
    "# 记录模型参数和指标\n",
    "mlflow.log_param('n_estimators', n_estimators)\n",
    "mlflow.log_param('max_depth', max_depth)\n",
    "mlflow.log_metric('train_accuracy', rf.score(X_train, y_train))\n",
    "mlflow.log_metric('test_accuracy', rf.score(X_test, y_test))\n",
    "\n",
    "# 保存模型到 MLflow artifact\n",
    "mlflow.sklearn.log_model(rf, 'model')\n",
    "\n",
    "# 结束 MLflow run\n",
    "mlflow.end_run()"
   ]
  },
  {
   "cell_type": "markdown",
   "metadata": {},
   "source": [
    "### 已有数据和模型进行训练和预测"
   ]
  },
  {
   "cell_type": "code",
   "execution_count": null,
   "metadata": {},
   "outputs": [],
   "source": [
    "# 加载模型\n",
    "model_path = 'model'\n",
    "loaded_model = mlflow.sklearn.load_model(model_path)\n",
    "\n",
    "# 使用模型进行预测\n",
    "y_pred = loaded_model.predict(X_test)"
   ]
  }
 ],
 "metadata": {
  "language_info": {
   "name": "python"
  },
  "orig_nbformat": 4
 },
 "nbformat": 4,
 "nbformat_minor": 2
}
