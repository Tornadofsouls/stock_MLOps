{
 "cells": [
  {
   "cell_type": "markdown",
   "metadata": {},
   "source": [
    "## DVC 数据分析 数据版本控制"
   ]
  },
  {
   "cell_type": "markdown",
   "metadata": {},
   "source": [
    "学习网站：https://zhuanlan.zhihu.com/p/475053858"
   ]
  },
  {
   "cell_type": "markdown",
   "metadata": {},
   "source": [
    "## 安装"
   ]
  },
  {
   "cell_type": "markdown",
   "metadata": {},
   "source": [
    "pip安装：pip install dvc \n",
    "\n",
    "conda安装：需要提前安装 Miniconda 或 Anaconda 发行版。\n",
    "conda install -c conda-forge mamba # installs much faster than conda\n",
    "mamba install -c conda-forge dvc\n",
    "\n",
    "使用berw安装（MacOS）：安装 DVC 之前，需要确保已经安装了 Homebrew。\n",
    "brew install dvc"
   ]
  },
  {
   "cell_type": "markdown",
   "metadata": {},
   "source": [
    "## 项目初始化"
   ]
  },
  {
   "cell_type": "markdown",
   "metadata": {},
   "source": [
    "安装完DVC之后， 通过在 Git 项目中运行 dvc init 来初始化它。\n",
    "\n",
    "准备工作\n",
    "$ mkdir example-get-started\n",
    "$ cd example-get-started\n",
    "$ git init\n",
    "\n",
    "初始化DVC\n",
    "$ dvc init\n",
    "\n",
    "初始化DVC之后，创建了一些应该添加到 Git 仓库的内部文件。\n",
    "$ git status\n",
    "\n",
    "Changes to be committed:\n",
    "        new file:   .dvc/.gitignore\n",
    "        new file:   .dvc/config\n",
    "        ...\n",
    "\n",
    "$ git commit -m \"Initialize DVC\""
   ]
  },
  {
   "cell_type": "markdown",
   "metadata": {},
   "source": [
    "DVC的特性可以分为几个功能组件（数据和模型版本控制、访问与下载数据和模型、数据流水线、指标跟踪、更新训练参数以及可视化模型表现、机器学习实验管理）"
   ]
  }
 ],
 "metadata": {
  "interpreter": {
   "hash": "2287c915b3db61027d50cb6eb72a988b8702097dccd2eb0ffd81756531a8644e"
  },
  "kernelspec": {
   "display_name": "Python 3.8.13 ('py380')",
   "language": "python",
   "name": "python3"
  },
  "language_info": {
   "codemirror_mode": {
    "name": "ipython",
    "version": 3
   },
   "file_extension": ".py",
   "mimetype": "text/x-python",
   "name": "python",
   "nbconvert_exporter": "python",
   "pygments_lexer": "ipython3",
   "version": "3.8.13"
  },
  "orig_nbformat": 4
 },
 "nbformat": 4,
 "nbformat_minor": 2
}
