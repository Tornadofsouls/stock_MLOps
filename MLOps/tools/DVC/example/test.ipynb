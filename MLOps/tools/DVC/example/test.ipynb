{
 "cells": [
  {
   "cell_type": "markdown",
   "metadata": {},
   "source": [
    "# 初始化"
   ]
  },
  {
   "cell_type": "code",
   "execution_count": 1,
   "metadata": {},
   "outputs": [],
   "source": [
    "from qlib.contrib.data.handler import Alpha158\n",
    "def qlib_init():\n",
    "    import qlib \n",
    "    from qlib.config import REG_CN\n",
    "    provider_uri = \"~/.qlib/qlib_data/cn_data\"  # target_dir\n",
    "    qlib.init(provider_uri=provider_uri, region=REG_CN)\n",
    "\n",
    "def load_alpha158_handler(start_time,end_time,valid_end,market):\n",
    "    from qlib.contrib.data.handler import Alpha158\n",
    "    config = {\n",
    "        \"start_time\": start_time,\n",
    "        \"end_time\": end_time,\n",
    "        \"fit_start_time\": start_time,\n",
    "        \"fit_end_time\": valid_end,\n",
    "        \"instruments\": market,\n",
    "    }\n",
    "    return Alpha158(**config)"
   ]
  },
  {
   "cell_type": "markdown",
   "metadata": {},
   "source": [
    "# 参数设置"
   ]
  },
  {
   "cell_type": "code",
   "execution_count": 2,
   "metadata": {},
   "outputs": [
    {
     "name": "stderr",
     "output_type": "stream",
     "text": [
      "[22960:MainThread](2023-03-14 10:01:44,183) INFO - qlib.Initialization - [config.py:413] - default_conf: client.\n",
      "[22960:MainThread](2023-03-14 10:01:44,940) INFO - qlib.Initialization - [__init__.py:74] - qlib successfully initialized based on client settings.\n",
      "[22960:MainThread](2023-03-14 10:01:44,944) INFO - qlib.Initialization - [__init__.py:76] - data_path={'__DEFAULT_FREQ': WindowsPath('C:/Users/is_li/.qlib/qlib_data/cn_data')}\n"
     ]
    }
   ],
   "source": [
    "#训练时间设置\n",
    "start_time = \"2015-07-01\" # 数据开始时间\n",
    "end_time =  \"2020-12-31\" # 数据结束时间/测试结束时间/回测结束时间\n",
    "train_end = \"2019-06-30\" # 训练结束时间\n",
    "valid_start = \"2019-07-01\" # 验证开始时间\n",
    "valid_end = \"2020-06-30\" # 验证结束时间\n",
    "test_start = \"2020-07-01\" # 测试开始时间/回测开始时间\n",
    "\n",
    "train_segments = {\n",
    "                \"train\": (start_time, train_end),\n",
    "                \"valid\": (valid_start, valid_end),\n",
    "                \"test\": (test_start, end_time),\n",
    "            }\n",
    "\n",
    "#市场设置\n",
    "market = \"yunnan\"\n",
    "instruments = market\n",
    "\n",
    "qlib_init()# qlib 初始化"
   ]
  },
  {
   "cell_type": "code",
   "execution_count": 3,
   "metadata": {},
   "outputs": [],
   "source": [
    "handler = load_alpha158_handler(start_time,end_time,valid_end,market)\n",
    "df = handler.fetch()# 因子数据表"
   ]
  },
  {
   "cell_type": "code",
   "execution_count": 25,
   "metadata": {},
   "outputs": [
    {
     "ename": "NameError",
     "evalue": "name 'load_alpha158_handler' is not defined",
     "output_type": "error",
     "traceback": [
      "\u001b[1;31m---------------------------------------------------------------------------\u001b[0m",
      "\u001b[1;31mNameError\u001b[0m                                 Traceback (most recent call last)",
      "Cell \u001b[1;32mIn [25], line 1\u001b[0m\n\u001b[1;32m----> 1\u001b[0m handler \u001b[38;5;241m=\u001b[39m load_alpha158_handler()\n\u001b[0;32m      2\u001b[0m \u001b[38;5;66;03m#df = handler.fetch()# 因子数据表\u001b[39;00m\n\u001b[0;32m      4\u001b[0m \u001b[38;5;28;01mfrom\u001b[39;00m \u001b[38;5;21;01mqlib\u001b[39;00m\u001b[38;5;21;01m.\u001b[39;00m\u001b[38;5;21;01mdata\u001b[39;00m\u001b[38;5;21;01m.\u001b[39;00m\u001b[38;5;21;01mdataset\u001b[39;00m \u001b[38;5;28;01mimport\u001b[39;00m DatasetH\n",
      "\u001b[1;31mNameError\u001b[0m: name 'load_alpha158_handler' is not defined"
     ]
    }
   ],
   "source": [
    "\n",
    "\n",
    "from qlib.data.dataset import DatasetH\n",
    "d = DatasetH(load_alpha158_handler(),segments=train_segments)#dataset\n",
    "\n",
    "from qlib.data.dataset.loader import QlibDataLoader\n",
    "MACD_EXP = '(EMA($close, 12) - EMA($close, 26))/$close - EMA((EMA($close, 12) - EMA($close, 26))/$close, 9)/$close'\n",
    "mom_5 = '$close/Ref($close, 5) - 1'\n",
    "fields = [MACD_EXP, '$close',mom_5]  # MACD\n",
    "names = ['MACD', '收盘价','五日动量']\n",
    "labels = ['Ref($close, -1)/$close - 1','Ref($close, -2)/Ref($close, -1) - 1']  # label\n",
    "label_names = ['LABEL_1', 'LABEL_2']\n",
    "data_loader_config = {\n",
    "    \"feature\": (fields, names),\n",
    "    \"label\": (labels, label_names)\n",
    "}\n",
    "data_loader = QlibDataLoader(config=data_loader_config)\n",
    "\n",
    "from ..code_lib.parameter_setting import load_lightGBM\n",
    "model = load_lightGBM()\n",
    "dataset = DatasetH(load_alpha158_handler(),segments=train_segments)"
   ]
  }
 ],
 "metadata": {
  "interpreter": {
   "hash": "2287c915b3db61027d50cb6eb72a988b8702097dccd2eb0ffd81756531a8644e"
  },
  "kernelspec": {
   "display_name": "Python 3.8.13 ('py380')",
   "language": "python",
   "name": "python3"
  },
  "language_info": {
   "codemirror_mode": {
    "name": "ipython",
    "version": 3
   },
   "file_extension": ".py",
   "mimetype": "text/x-python",
   "name": "python",
   "nbconvert_exporter": "python",
   "pygments_lexer": "ipython3",
   "version": "3.8.13"
  },
  "orig_nbformat": 4
 },
 "nbformat": 4,
 "nbformat_minor": 2
}
